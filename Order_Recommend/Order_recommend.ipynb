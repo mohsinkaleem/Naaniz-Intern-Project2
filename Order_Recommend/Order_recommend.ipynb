{
 "cells": [
  {
   "cell_type": "code",
   "execution_count": 1,
   "metadata": {},
   "outputs": [],
   "source": [
    "import pandas as pd\n",
    "import numpy as np"
   ]
  },
  {
   "cell_type": "code",
   "execution_count": 2,
   "metadata": {},
   "outputs": [],
   "source": [
    "#load the dataser\n",
    "df=pd.read_csv(\"Recommend_Dataset1.csv\")"
   ]
  },
  {
   "cell_type": "code",
   "execution_count": 3,
   "metadata": {},
   "outputs": [
    {
     "data": {
      "text/html": [
       "<div>\n",
       "<style scoped>\n",
       "    .dataframe tbody tr th:only-of-type {\n",
       "        vertical-align: middle;\n",
       "    }\n",
       "\n",
       "    .dataframe tbody tr th {\n",
       "        vertical-align: top;\n",
       "    }\n",
       "\n",
       "    .dataframe thead th {\n",
       "        text-align: right;\n",
       "    }\n",
       "</style>\n",
       "<table border=\"1\" class=\"dataframe\">\n",
       "  <thead>\n",
       "    <tr style=\"text-align: right;\">\n",
       "      <th></th>\n",
       "      <th>Unnamed: 0</th>\n",
       "      <th>customer_id</th>\n",
       "      <th>date</th>\n",
       "      <th>time</th>\n",
       "      <th>weight</th>\n",
       "    </tr>\n",
       "  </thead>\n",
       "  <tbody>\n",
       "    <tr>\n",
       "      <th>0</th>\n",
       "      <td>0</td>\n",
       "      <td>1</td>\n",
       "      <td>2020-01-01</td>\n",
       "      <td>23.54</td>\n",
       "      <td>1</td>\n",
       "    </tr>\n",
       "    <tr>\n",
       "      <th>1</th>\n",
       "      <td>3091</td>\n",
       "      <td>37</td>\n",
       "      <td>2020-01-01</td>\n",
       "      <td>24.29</td>\n",
       "      <td>1</td>\n",
       "    </tr>\n",
       "    <tr>\n",
       "      <th>2</th>\n",
       "      <td>5881</td>\n",
       "      <td>68</td>\n",
       "      <td>2020-01-01</td>\n",
       "      <td>15.48</td>\n",
       "      <td>1</td>\n",
       "    </tr>\n",
       "    <tr>\n",
       "      <th>3</th>\n",
       "      <td>5880</td>\n",
       "      <td>68</td>\n",
       "      <td>2020-01-01</td>\n",
       "      <td>22.06</td>\n",
       "      <td>1</td>\n",
       "    </tr>\n",
       "    <tr>\n",
       "      <th>4</th>\n",
       "      <td>5879</td>\n",
       "      <td>68</td>\n",
       "      <td>2020-01-01</td>\n",
       "      <td>8.42</td>\n",
       "      <td>1</td>\n",
       "    </tr>\n",
       "  </tbody>\n",
       "</table>\n",
       "</div>"
      ],
      "text/plain": [
       "   Unnamed: 0  customer_id        date   time  weight\n",
       "0           0            1  2020-01-01  23.54       1\n",
       "1        3091           37  2020-01-01  24.29       1\n",
       "2        5881           68  2020-01-01  15.48       1\n",
       "3        5880           68  2020-01-01  22.06       1\n",
       "4        5879           68  2020-01-01   8.42       1"
      ]
     },
     "execution_count": 3,
     "metadata": {},
     "output_type": "execute_result"
    }
   ],
   "source": [
    "# converting the time from string to float\n",
    "df.time=df.time.apply(lambda x:float(\".\".join(x.split(\":\"))))\n",
    "df.head()"
   ]
  },
  {
   "cell_type": "code",
   "execution_count": 4,
   "metadata": {},
   "outputs": [],
   "source": [
    "\"\"\"\n",
    "converting the time from continous float to disceret int to\n",
    "count the occurence of a particulat time\n",
    "of a customer for a period of 1 months\n",
    "\"\"\"\n",
    "df.time=df.time.astype(\"int\")"
   ]
  },
  {
   "cell_type": "code",
   "execution_count": null,
   "metadata": {},
   "outputs": [],
   "source": []
  },
  {
   "cell_type": "code",
   "execution_count": 19,
   "metadata": {},
   "outputs": [],
   "source": [
    "\"\"\"\n",
    "Code to make synthetic datasets.\n",
    "\n",
    "\"\"\"\n",
    "\n",
    "\n",
    "\n",
    "# #!/usr/bin/env python3\n",
    "# # -*- coding: utf-8 -*-\n",
    "# \"\"\"\n",
    "# Created on Sun Jun 14 09:43:36 2020\n",
    "\n",
    "# @author: mohsin\n",
    "# \"\"\"\n",
    "# #Code to prepare synthetic dataset\n",
    "\n",
    "# import pandas as pd\n",
    "# import random\n",
    "# import numpy as np \n",
    "\n",
    "# data={\"customer_id\":[],\"date\":[],\"time\":[],\"weight\":[]}\n",
    "# dates=pd.date_range(\"2020-01-01\",periods=30)\n",
    "# for customer in range(1,100):\n",
    "#     # data[customer]=[]\n",
    "#     for i,order_date in enumerate(dates):\n",
    "#         # data[customer].append(date)\n",
    "#         for order in range(1,random.randint(1,5)+1):\n",
    "#             order_time=f'{random.randint(6,24)}:{str(round(random.uniform(0,.60),2))[2:]}'\n",
    "#             data[\"customer_id\"].append(customer)\n",
    "#             data[\"date\"].append(order_date)\n",
    "#             data[\"time\"].append(order_time)\n",
    "#             data[\"weight\"].append(i+1)\n",
    "        \n",
    "    \n",
    "# df=pd.DataFrame(data)\n",
    "# df=df.sort_values(by=\"date\")\n",
    "# df.to_csv(\"Recommend_Dataset1.csv\")"
   ]
  },
  {
   "cell_type": "code",
   "execution_count": 6,
   "metadata": {},
   "outputs": [],
   "source": [
    "\"\"\"\n",
    "fuction which will recommend the top k otder time for a customer\n",
    "This function is basically giving weight to more recent order\n",
    "then counting frequency od the order_time from it's history using the weights.\n",
    "Then sorting the counts based on the time which got max_weights and recommendin the top k orders\n",
    "\"\"\"\n",
    "def recommend_time(cust_id):\n",
    "    a=df[df[\"customer_id\"]==cust_id]\n",
    "    res={}\n",
    "    for time in set(a.time):\n",
    "        res[time]=a[a[\"time\"]==time].weight.sum()\n",
    "        \n",
    "    res=sorted(res.items(),key=lambda items:items[1],reverse=True)\n",
    "    print(\"Top 3 most probable time to recommend:\")\n",
    "    for i in res[:3]:\n",
    "        if(i[0]>12):\n",
    "            print(f'{i[0]-12} P.M')\n",
    "        else:\n",
    "            print(f'{i[0]} A.M')\n",
    "            "
   ]
  },
  {
   "cell_type": "code",
   "execution_count": null,
   "metadata": {},
   "outputs": [
    {
     "name": "stdout",
     "output_type": "stream",
     "text": [
      "Enter customer id/name: 3\n",
      "\n",
      "Top 3 most probable time to recommend:\n",
      "9 A.M\n",
      "5 P.M\n",
      "6 P.M\n",
      "---------------------\n",
      "Enter customer id/name: 1\n",
      "\n",
      "Top 3 most probable time to recommend:\n",
      "11 A.M\n",
      "5 P.M\n",
      "3 P.M\n",
      "---------------------\n",
      "Enter customer id/name: 78\n",
      "\n",
      "Top 3 most probable time to recommend:\n",
      "10 P.M\n",
      "6 A.M\n",
      "12 A.M\n",
      "---------------------\n"
     ]
    }
   ],
   "source": [
    "while True:\n",
    "    cust_id=int(input(\"Enter customer id/name: \"))\n",
    "    if cust_id==-1:\n",
    "        break\n",
    "    print()\n",
    "    recommend_time(cust_id)\n",
    "    print(\"---------------------\")\n",
    "\n",
    "    "
   ]
  },
  {
   "cell_type": "code",
   "execution_count": null,
   "metadata": {},
   "outputs": [],
   "source": []
  },
  {
   "cell_type": "code",
   "execution_count": null,
   "metadata": {},
   "outputs": [],
   "source": []
  }
 ],
 "metadata": {
  "kernelspec": {
   "display_name": "Python 3",
   "language": "python",
   "name": "python3"
  },
  "language_info": {
   "codemirror_mode": {
    "name": "ipython",
    "version": 3
   },
   "file_extension": ".py",
   "mimetype": "text/x-python",
   "name": "python",
   "nbconvert_exporter": "python",
   "pygments_lexer": "ipython3",
   "version": "3.7.7"
  }
 },
 "nbformat": 4,
 "nbformat_minor": 4
}
